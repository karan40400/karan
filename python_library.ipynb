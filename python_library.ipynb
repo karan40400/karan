{
  "nbformat": 4,
  "nbformat_minor": 0,
  "metadata": {
    "colab": {
      "provenance": []
    },
    "kernelspec": {
      "name": "python3",
      "display_name": "Python 3"
    },
    "language_info": {
      "name": "python"
    }
  },
  "cells": [
    {
      "cell_type": "code",
      "execution_count": 1,
      "metadata": {
        "colab": {
          "base_uri": "https://localhost:8080/",
          "height": 383
        },
        "id": "jCQ9lVy-RWUg",
        "outputId": "9954c265-57b6-4729-96d9-c45a80bbc1c4"
      },
      "outputs": [
        {
          "output_type": "error",
          "ename": "ModuleNotFoundError",
          "evalue": "ignored",
          "traceback": [
            "\u001b[0;31m---------------------------------------------------------------------------\u001b[0m",
            "\u001b[0;31mModuleNotFoundError\u001b[0m                       Traceback (most recent call last)",
            "\u001b[0;32m<ipython-input-1-c11cf6ed4ff3>\u001b[0m in \u001b[0;36m<cell line: 11>\u001b[0;34m()\u001b[0m\n\u001b[1;32m      9\u001b[0m \u001b[0;31m# test_module1.py\u001b[0m\u001b[0;34m\u001b[0m\u001b[0;34m\u001b[0m\u001b[0m\n\u001b[1;32m     10\u001b[0m \u001b[0;34m\u001b[0m\u001b[0m\n\u001b[0;32m---> 11\u001b[0;31m \u001b[0;32mfrom\u001b[0m \u001b[0mmylibrary\u001b[0m\u001b[0;34m.\u001b[0m\u001b[0mmodule1\u001b[0m \u001b[0;32mimport\u001b[0m \u001b[0madd_numbers\u001b[0m\u001b[0;34m\u001b[0m\u001b[0;34m\u001b[0m\u001b[0m\n\u001b[0m\u001b[1;32m     12\u001b[0m \u001b[0;34m\u001b[0m\u001b[0m\n\u001b[1;32m     13\u001b[0m \u001b[0;32mdef\u001b[0m \u001b[0mtest_add_numbers\u001b[0m\u001b[0;34m(\u001b[0m\u001b[0;34m)\u001b[0m\u001b[0;34m:\u001b[0m\u001b[0;34m\u001b[0m\u001b[0;34m\u001b[0m\u001b[0m\n",
            "\u001b[0;31mModuleNotFoundError\u001b[0m: No module named 'mylibrary'",
            "",
            "\u001b[0;31m---------------------------------------------------------------------------\u001b[0;32m\nNOTE: If your import is failing due to a missing package, you can\nmanually install dependencies using either !pip or !apt.\n\nTo view examples of installing some common dependencies, click the\n\"Open Examples\" button below.\n\u001b[0;31m---------------------------------------------------------------------------\u001b[0m\n"
          ],
          "errorDetails": {
            "actions": [
              {
                "action": "open_url",
                "actionText": "Open Examples",
                "url": "/notebooks/snippets/importing_libraries.ipynb"
              }
            ]
          }
        }
      ],
      "source": [
        "\n",
        "\n",
        "def add_numbers(a, b):\n",
        "    return a + b\n",
        "\n",
        "def multiply_numbers(a, b):\n",
        "    return a * b\n",
        "\n",
        "from mylibrary.module1 import add_numbers\n",
        "\n",
        "def test_add_numbers():\n",
        "    assert add_numbers(2, 3) == 5\n",
        "    assert add_numbers(-1, 1) == 0\n",
        "\n",
        "\n",
        "from mylibrary.module2 import multiply_numbers\n",
        "\n",
        "def test_multiply_numbers():\n",
        "    assert multiply_numbers(2, 3) == 6\n",
        "    assert multiply_numbers(-1, 1) == -1\n",
        "\n",
        "from setuptools import setup, find_packages\n",
        "\n",
        "setup(\n",
        "    name='mylibrary',\n",
        "    version='0.1',\n",
        "    packages=find_packages(),\n",
        "    install_requires=[],\n",
        "    tests_require=['pytest'],\n",
        "    entry_points={\n",
        "        'console_scripts': [\n",
        "            'mylibrary-script = mylibrary.module1:main_function',\n",
        "        ],\n",
        "    },\n",
        ")\n"
      ]
    }
  ]
}