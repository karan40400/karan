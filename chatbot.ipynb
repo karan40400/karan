{
  "nbformat": 4,
  "nbformat_minor": 0,
  "metadata": {
    "colab": {
      "provenance": []
    },
    "kernelspec": {
      "name": "python3",
      "display_name": "Python 3"
    },
    "language_info": {
      "name": "python"
    }
  },
  "cells": [
    {
      "cell_type": "code",
      "execution_count": null,
      "metadata": {
        "id": "IL1O-rSASZeU"
      },
      "outputs": [],
      "source": [
        "import nltk\n",
        "import random\n",
        "from nltk.chat.util import Chat, reflections\n",
        "\n",
        "# Define some conversation patterns\n",
        "patterns = [\n",
        "    (r'hi|hello|hey', ['Hello!', 'Hi there!', 'Hey!']),\n",
        "    (r'how are you', ['I am good, thank you.', 'I\\'m doing well. How about you?']),\n",
        "    (r'(.*) your name?', ['I am a chatbot. You can call me ChatGPT.']),\n",
        "    (r'quit', ['Goodbye!', 'Bye for now.']),\n",
        "]\n",
        "\n",
        "# Define reflections to respond to pronouns\n",
        "reflections = {\n",
        "    'you': 'me',\n",
        "    'I': 'you',\n",
        "    'your': 'my',\n",
        "    'my': 'your',\n",
        "    'me': 'you',\n",
        "}\n",
        "\n",
        "# Create the chatbot\n",
        "chatbot = Chat(patterns, reflections)\n",
        "\n",
        "# Start the conversation\n",
        "print(\"Hello! I'm a simple chatbot. You can type 'quit' to exit.\")\n",
        "while True:\n",
        "    user_input = input(\"You: \")\n",
        "    response = chatbot.respond(user_input)\n",
        "    print(\"ChatGPT:\", response)\n",
        "    if user_input.lower() == 'quit':\n",
        "        break\n"
      ]
    }
  ]
}